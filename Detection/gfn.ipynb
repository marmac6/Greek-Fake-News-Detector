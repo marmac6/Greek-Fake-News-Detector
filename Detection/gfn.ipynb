{
 "cells": [
  {
   "cell_type": "code",
   "execution_count": 2,
   "id": "d059f1b1",
   "metadata": {},
   "outputs": [],
   "source": [
    "# %%\n",
    "# import tqdm as notebook_tqdm \n",
    "\n",
    "import torch\n",
    "import torch.nn as nn\n",
    "from torch.optim import AdamW\n",
    "# from torch.utils.tensorboard import SummaryWriter\n",
    "from torch.utils.data import TensorDataset, RandomSampler, DataLoader\n",
    "\n",
    "import numpy as np\n",
    "import unicodedata\n",
    "import pandas as pd\n",
    "\n",
    "from sklearn.utils import compute_class_weight\n",
    "from sklearn.model_selection import train_test_split\n",
    "from sklearn.metrics import roc_auc_score, roc_curve\n",
    "from sklearn.metrics import classification_report, confusion_matrix\n",
    "\n",
    "import transformers\n",
    "from transformers import AutoTokenizer, AutoModel\n",
    "\n",
    "import matplotlib.pyplot as plt\n"
   ]
  },
  {
   "cell_type": "code",
   "execution_count": 3,
   "id": "6e7023d7",
   "metadata": {},
   "outputs": [],
   "source": [
    "# %% [markdown]\n",
    "# ### Preprocessing of data\n",
    "# 1. Text to lowercase\n",
    "# 2. Remove accents\n",
    "#\n",
    "# Ένας υπέροχος ποιητής -> ενας υπεροχος ποιητης\n",
    "\n",
    "\n",
    "# %%\n",
    "def strip_accents_and_lowercase(s):\n",
    "    if type(s) == str:\n",
    "        return ''.join(c for c in unicodedata.normalize('NFD', s)\n",
    "                       if unicodedata.category(c) != 'Mn').lower()\n",
    "\n"
   ]
  },
  {
   "cell_type": "code",
   "execution_count": 4,
   "id": "e52518f2",
   "metadata": {},
   "outputs": [],
   "source": [
    "# %%\n",
    "transformers.logging.set_verbosity_error(\n",
    ")  #δεν εχει λειτουργία κανει supress καποια warnings\n",
    "\n",
    "# Load model and tokenizer\n",
    "tokenizer_greek = AutoTokenizer.from_pretrained(\n",
    "    'nlpaueb/bert-base-greek-uncased-v1')\n",
    "lm_model_greek = AutoModel.from_pretrained(\n",
    "    'nlpaueb/bert-base-greek-uncased-v1', return_dict=False) \n"
   ]
  },
  {
   "cell_type": "code",
   "execution_count": 5,
   "id": "7bc66ad2",
   "metadata": {},
   "outputs": [],
   "source": [
    "# %%\n",
    "df: pd.DataFrame = pd.read_csv('../Dataset/greek.csv', delimiter=';')\n",
    "df = df.dropna()  # removes None values\n"
   ]
  },
  {
   "cell_type": "code",
   "execution_count": 6,
   "id": "e6f7a562",
   "metadata": {},
   "outputs": [],
   "source": [
    "# %%\n",
    "# Check that there are no nan values\n",
    "assert df.isnull().values.any() == False\n"
   ]
  },
  {
   "cell_type": "code",
   "execution_count": 7,
   "id": "8ab5c830",
   "metadata": {},
   "outputs": [],
   "source": [
    "# %%\n",
    "titles = df['title'].apply(strip_accents_and_lowercase)\n",
    "labels = df['is_fake']\n"
   ]
  },
  {
   "cell_type": "code",
   "execution_count": 8,
   "id": "dc560434",
   "metadata": {},
   "outputs": [
    {
     "data": {
      "text/plain": [
       "0    0.547019\n",
       "1    0.452981\n",
       "Name: is_fake, dtype: float64"
      ]
     },
     "execution_count": 8,
     "metadata": {},
     "output_type": "execute_result"
    }
   ],
   "source": [
    "# %%\n",
    "# check labels distribution\n",
    "labels.value_counts(normalize=True)\n"
   ]
  },
  {
   "cell_type": "code",
   "execution_count": 9,
   "id": "1c0601ae",
   "metadata": {},
   "outputs": [],
   "source": [
    "# %%\n",
    "train_title, test_title, train_labels, test_labels = train_test_split(  #to Text ennoei ton titlo etsi?\n",
    "    titles, labels, random_state=2022, test_size=0.3, stratify=labels)\n"
   ]
  },
  {
   "cell_type": "code",
   "execution_count": 10,
   "id": "a56c8eab",
   "metadata": {},
   "outputs": [
    {
     "data": {
      "text/plain": [
       "<AxesSubplot: >"
      ]
     },
     "execution_count": 10,
     "metadata": {},
     "output_type": "execute_result"
    },
    {
     "data": {
      "image/png": "[encoded data removed]",
      "text/plain": [
       "<Figure size 640x480 with 1 Axes>"
      ]
     },
     "metadata": {},
     "output_type": "display_data"
    }
   ],
   "source": [
    "# %%\n",
    "# Tokenizaion\n",
    "# Get the length of all the titles in the train set\n",
    "seq_len = [len(i.split()) for i in train_title]  # μέγεθος τίτλου σε λέξεις\n",
    "\n",
    "pd.Series(seq_len).hist(bins=30)  # δημιουργία ιστογράμματος των μεγεθών\n"
   ]
  },
  {
   "cell_type": "code",
   "execution_count": 11,
   "id": "c71bb905",
   "metadata": {},
   "outputs": [],
   "source": [
    "# %%\n",
    "# define max sequence lenght (why?)\n",
    "max_seq_len = 40\n"
   ]
  },
  {
   "cell_type": "code",
   "execution_count": 12,
   "id": "555e0d0c",
   "metadata": {},
   "outputs": [],
   "source": [
    "# %%\n",
    "# tokenization and encoding of the sequences in the training and testing set\n",
    "# truncation=True, -> limits token's len to max_seq_len\n",
    "# for smaller tokens, pad with 0 until max_seq_len\n",
    "tokens_train = tokenizer_greek.batch_encode_plus(train_title.tolist(),\n",
    "                                                 max_length=max_seq_len,\n",
    "                                                 padding='max_length',\n",
    "                                                 truncation=True,\n",
    "                                                 return_token_type_ids=False)\n",
    "\n",
    "tokens_test = tokenizer_greek.batch_encode_plus(test_title.tolist(),\n",
    "                                                max_length=max_seq_len,\n",
    "                                                padding='max_length',\n",
    "                                                truncation=True,\n",
    "                                                return_token_type_ids=False)\n"
   ]
  },
  {
   "cell_type": "code",
   "execution_count": 13,
   "id": "f49c2ff1",
   "metadata": {},
   "outputs": [],
   "source": [
    "# %%\n",
    "# Convert Integer Sequences to Tensors\n",
    "\n",
    "# For train set\n",
    "train_seq = torch.tensor(tokens_train['input_ids'])\n",
    "train_mask = torch.tensor(tokens_train['attention_mask'])\n",
    "train_y = torch.tensor(train_labels.tolist())  \n",
    "\n",
    "# For test set\n",
    "test_seq = torch.tensor(tokens_test['input_ids'])\n",
    "test_mask = torch.tensor(tokens_test['attention_mask'])\n",
    "test_y = torch.tensor(test_labels.tolist())\n"
   ]
  },
  {
   "cell_type": "code",
   "execution_count": 14,
   "id": "e8c5728a",
   "metadata": {},
   "outputs": [],
   "source": [
    "# %%\n",
    "batch_size = 64\n",
    "epochs = 5 \n",
    "\n",
    "# wrap tensors\n",
    "# the TensorDataset is a ready to use class to represent our data as a list of tensors\n",
    "train_data = TensorDataset(train_seq, train_mask, train_y) \n",
    "\n",
    "# sampler for sampling the data during training\n",
    "train_sampler = RandomSampler(train_data)\n",
    "\n",
    "train_dataloader = DataLoader(train_data,\n",
    "                              sampler=train_sampler,\n",
    "                              batch_size=batch_size)\n"
   ]
  },
  {
   "cell_type": "code",
   "execution_count": 15,
   "id": "e25d45c5",
   "metadata": {},
   "outputs": [],
   "source": [
    "# %%\n",
    "# Define the Model Custom Architecture\n",
    "class BERT_Fake(nn.Module):\n",
    "\n",
    "    def __init__(self, bert) -> None:\n",
    "        super(BERT_Fake, self).__init__()\n",
    "\n",
    "        self.bert = bert\n",
    "        # DropoutLayer\n",
    "        self.dropout = nn.Dropout(0.1)\n",
    "        # ReLU\n",
    "        self.relu = nn.ReLU()\n",
    "        # Dense Layer 1\n",
    "        self.fc1 = nn.Linear(768, 512)\n",
    "        self.fc2 = nn.Linear(512, 2)\n",
    "        self.softmax = nn.LogSoftmax(dim=1)\n",
    "\n",
    "    def forward(self, send_id, mask):\n",
    "        # pass inputs to model\n",
    "        _, cls_hs = self.bert(send_id, attention_mask=mask)\n",
    "\n",
    "        x = self.fc1(cls_hs)\n",
    "        x = self.relu(x)\n",
    "        x = self.dropout(x)\n",
    "        x = self.fc2(x)\n",
    "        x = self.softmax(x)\n",
    "\n",
    "        return x"
   ]
  },
  {
   "cell_type": "code",
   "execution_count": 16,
   "id": "4b141f60",
   "metadata": {},
   "outputs": [],
   "source": [
    "# %%\n",
    "# Pass the pre-trained BERT to our custom architecture\n",
    "model = BERT_Fake(lm_model_greek)\n",
    "\n",
    "# Push model to GPU\n",
    "device = torch.device('cuda' if torch.cuda.is_available() else 'cpu')\n",
    "model = model.to(device)\n"
   ]
  },
  {
   "cell_type": "code",
   "execution_count": 17,
   "id": "42ace0cd",
   "metadata": {},
   "outputs": [],
   "source": [
    "optimizer = AdamW(model.parameters(), lr=1e-3)"
   ]
  },
  {
   "cell_type": "code",
   "execution_count": 18,
   "id": "50b55959",
   "metadata": {},
   "outputs": [],
   "source": [
    "# %%\n",
    "# Compute the Class Weights\n",
    "# With class weighting enabled, the sum is replaced by a weighted sum instead so that each sample contributes to the loss proportionally to the sample's class weight\n",
    "class_weights = compute_class_weight(class_weight=\"balanced\",\n",
    "                                     classes=np.unique(train_labels),\n",
    "                                     y=train_labels)\n"
   ]
  },
  {
   "cell_type": "code",
   "execution_count": 19,
   "id": "f9ec8118",
   "metadata": {},
   "outputs": [],
   "source": [
    "# %%\n",
    "# Convert weights to tensors\n",
    "weights = torch.tensor(class_weights, dtype=torch.float)\n",
    "weigths = weights.to(device)\n",
    "\n",
    "criterion = nn.NLLLoss(weight=weights)\n",
    "criterion = criterion.to(device)\n"
   ]
  },
  {
   "cell_type": "code",
   "execution_count": 20,
   "id": "525d6ffe",
   "metadata": {},
   "outputs": [],
   "source": [
    "# %%\n",
    "# writer = SummaryWriter('runs/greek-fake-news')\n",
    "\n"
   ]
  },
  {
   "cell_type": "code",
   "execution_count": 21,
   "id": "b4568bc3",
   "metadata": {},
   "outputs": [],
   "source": [
    "# %%\n",
    "def train():\n",
    "\n",
    "    model.train()\n",
    "    total_loss, total_accuracy = 0, 0\n",
    "\n",
    "    total_preds = []\n",
    "\n",
    "    # Iterate over the batches\n",
    "    for step, batch in enumerate(train_dataloader):\n",
    "        # Update after every Number of batches\n",
    "        if step % 100 == 0 and not step == 0:\n",
    "            print('  Batch {:>5,}  of  {:>5,}.'.format(step,\n",
    "                                                       len(train_dataloader)))\n",
    "\n",
    "        batch = [r.to(device) for r in batch]\n",
    "        sent_id, mask, labels = batch\n",
    "\n",
    "        # Forward\n",
    "        outputs = model(sent_id, mask)\n",
    "        loss = criterion(outputs, labels)\n",
    "\n",
    "        # Backward\n",
    "        # Make the grads zero\n",
    "        model.zero_grad()\n",
    "        # Do the backward step of the loss calculation through chain derivatives\n",
    "        total_loss = total_loss + loss.item()\n",
    "        loss.backward()\n",
    "\n",
    "        # Clip the gradients to 1.0. It helps in preventing the exploding gradient problem\n",
    "        # TO TEST IT\n",
    "        #torch.nn.utils.clip_grap_norm_(model.paremeters(),1.0)\n",
    "        # Do the optimizer step and update the parameters\n",
    "        optimizer.step()\n",
    "\n",
    "        # Model predictions are stored on GPU. Push it to CPU\n",
    "        outputs = outputs.detach().cpu().numpy()\n",
    "\n",
    "        # Append the model predictions\n",
    "        total_preds.append(outputs)\n",
    "\n",
    "    # Compute the training loss of the epoch\n",
    "    avg_loss = total_loss / len(train_dataloader)\n",
    "\n",
    "    # The predictions are in the form of (no. of batches, size of batch, no. of classes)\n",
    "    # Reshape the predictions in form of (number of samples, no. of classes)\n",
    "    total_preds = np.concatenate(total_preds, axis=0)\n",
    "\n",
    "    # Return the loss and predictions\n",
    "    return avg_loss, total_preds\n",
    "\n"
   ]
  },
  {
   "cell_type": "code",
   "execution_count": 22,
   "id": "187701ea",
   "metadata": {},
   "outputs": [
    {
     "name": "stdout",
     "output_type": "stream",
     "text": [
      "Epoch 1 / 5\n",
      "Training Loss: 0.745\n",
      "Epoch 2 / 5\n"
     ]
    },
    {
     "ename": "KeyboardInterrupt",
     "evalue": "",
     "output_type": "error",
     "traceback": [
      "\u001b[1;31m---------------------------------------------------------------------------\u001b[0m",
      "\u001b[1;31mKeyboardInterrupt\u001b[0m                         Traceback (most recent call last)",
      "Cell \u001b[1;32mIn[22], line 10\u001b[0m\n\u001b[0;32m      8\u001b[0m \u001b[39mfor\u001b[39;00m epoch \u001b[39min\u001b[39;00m \u001b[39mrange\u001b[39m(epochs):\n\u001b[0;32m      9\u001b[0m     \u001b[39mprint\u001b[39m(\u001b[39m'\u001b[39m\u001b[39mEpoch \u001b[39m\u001b[39m{:}\u001b[39;00m\u001b[39m / \u001b[39m\u001b[39m{:}\u001b[39;00m\u001b[39m'\u001b[39m\u001b[39m.\u001b[39mformat(epoch \u001b[39m+\u001b[39m \u001b[39m1\u001b[39m, epochs))\n\u001b[1;32m---> 10\u001b[0m     train_loss, preds \u001b[39m=\u001b[39m train()\n\u001b[0;32m     12\u001b[0m     \u001b[39m# To find out what happends with the accuracy per epoch\u001b[39;00m\n\u001b[0;32m     13\u001b[0m     \u001b[39m# writer.add_scalar('Training Loss', train_loss, epoch)\u001b[39;00m\n\u001b[0;32m     15\u001b[0m     train_losses\u001b[39m.\u001b[39mappend(train_loss)\n",
      "Cell \u001b[1;32mIn[21], line 37\u001b[0m, in \u001b[0;36mtrain\u001b[1;34m()\u001b[0m\n\u001b[0;32m     34\u001b[0m optimizer\u001b[39m.\u001b[39mstep()\n\u001b[0;32m     36\u001b[0m \u001b[39m# Model predictions are stored on GPU. Push it to CPU\u001b[39;00m\n\u001b[1;32m---> 37\u001b[0m outputs \u001b[39m=\u001b[39m outputs\u001b[39m.\u001b[39;49mdetach()\u001b[39m.\u001b[39;49mcpu()\u001b[39m.\u001b[39mnumpy()\n\u001b[0;32m     39\u001b[0m \u001b[39m# Append the model predictions\u001b[39;00m\n\u001b[0;32m     40\u001b[0m total_preds\u001b[39m.\u001b[39mappend(outputs)\n",
      "\u001b[1;31mKeyboardInterrupt\u001b[0m: "
     ]
    }
   ],
   "source": [
    "# %%\n",
    "# model training\n",
    "best_valid_loss = float('inf')\n",
    "\n",
    "train_losses = []\n",
    "valid_losses = []\n",
    "\n",
    "for epoch in range(epochs):\n",
    "    print('Epoch {:} / {:}'.format(epoch + 1, epochs))\n",
    "    train_loss, preds = train()\n",
    "\n",
    "    # To find out what happends with the accuracy per epoch\n",
    "    # writer.add_scalar('Training Loss', train_loss, epoch)\n",
    "\n",
    "    train_losses.append(train_loss)\n",
    "    print(f'Training Loss: {train_loss:.3f}')\n",
    "torch.save(model.state_dict(), 'saved_weights.pt')\n"
   ]
  },
  {
   "cell_type": "code",
   "execution_count": null,
   "id": "da3b961e",
   "metadata": {},
   "outputs": [],
   "source": [
    "# %%\n",
    "# writer.close()\n",
    "\n",
    "path = 'saved_weights.pt'\n",
    "model.load_state_dict(torch.load(path))\n"
   ]
  },
  {
   "cell_type": "code",
   "execution_count": null,
   "id": "597a97d6",
   "metadata": {},
   "outputs": [],
   "source": [
    "# %%\n",
    "# Get Predictions for the Test Data\n",
    "with torch.no_grad():\n",
    "    preds = model(test_seq.to(device), test_mask.to(device))\n",
    "    preds = preds.detach().cpu().numpy()\n",
    "\n"
   ]
  },
  {
   "cell_type": "code",
   "execution_count": null,
   "id": "9f7f6a0c",
   "metadata": {},
   "outputs": [],
   "source": [
    "# %%\n",
    "def conf_to_metrics(conf):\n",
    "    tn, fp, fn, tp = conf.ravel()\n",
    "\n",
    "    accuracy = (tp + tn) / (tn + fp + fn + tp)\n",
    "    sensitivity = tp / (tp + fn)\n",
    "    specificity = tn / (tn + fp)\n",
    "    precision = tp / (tp + fp)\n",
    "    fscore = 2 * sensitivity * precision / (sensitivity + precision)\n",
    "    metrics = {\n",
    "        \"accuracy\": accuracy,\n",
    "        \"precision\": precision,\n",
    "        \"sensitivity\": sensitivity,\n",
    "        \"specificity\": specificity,\n",
    "        \"fscore\": fscore,\n",
    "    }\n",
    "    return metrics\n"
   ]
  },
  {
   "cell_type": "code",
   "execution_count": 23,
   "id": "93255fd7",
   "metadata": {},
   "outputs": [],
   "source": [
    "torch.cuda.empty_cache()"
   ]
  },
  {
   "cell_type": "code",
   "execution_count": null,
   "id": "5b81ecb7",
   "metadata": {},
   "outputs": [],
   "source": [
    "# %%\n",
    "preds = np.argmax(preds, axis=1)\n"
   ]
  },
  {
   "cell_type": "code",
   "execution_count": null,
   "id": "8d6dfd51",
   "metadata": {},
   "outputs": [],
   "source": [
    "# %%\n",
    "conf = confusion_matrix(test_y, preds, labels=[0, 1])\n",
    "conf_to_metrics(conf)\n"
   ]
  },
  {
   "cell_type": "code",
   "execution_count": null,
   "id": "14b5fda3",
   "metadata": {},
   "outputs": [],
   "source": [
    "# %%\n",
    "# Plot ROC curve\n",
    "auc_score = roc_auc_score(test_y, preds)\n",
    "fpr, tpr, thresholds = roc_curve(test_y, preds, pos_label=1)\n",
    "fig, ax = plt.subplots()\n",
    "ax.plot(fpr, tpr, 'b', label='AUC = %.2f' % auc_score)\n",
    "ax.plot([0, 1], [0, 1], 'r--')\n",
    "ax.set_xlim([0, 1])\n",
    "ax.set_ylim([0, 1])\n",
    "ax.set_ylabel('Sensitivity')\n",
    "ax.set_xlabel('1 - Specificity')\n",
    "ax.legend(loc='lower right')\n",
    "nm = 'roc_curve' + str(round(auc_score, 3)) + '.svg'\n",
    "fig.savefig(nm)\n"
   ]
  },
  {
   "cell_type": "code",
   "execution_count": null,
   "id": "78f2259a",
   "metadata": {},
   "outputs": [],
   "source": [
    "# %%\n",
    "print(classification_report(test_y, preds, target_names=['Fake', 'Real']))\n"
   ]
  }
 ],
 "metadata": {
  "kernelspec": {
   "display_name": "Python 3 (ipykernel)",
   "language": "python",
   "name": "python3"
  },
  "language_info": {
   "codemirror_mode": {
    "name": "ipython",
    "version": 3
   },
   "file_extension": ".py",
   "mimetype": "text/x-python",
   "name": "python",
   "nbconvert_exporter": "python",
   "pygments_lexer": "ipython3",
   "version": "3.10.1"
  }
 },
 "nbformat": 4,
 "nbformat_minor": 5
}
