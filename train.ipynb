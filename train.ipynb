{
 "cells": [
  {
   "cell_type": "code",
   "execution_count": 1,
   "metadata": {},
   "outputs": [],
   "source": [
    "import re\n",
    "import nltk\n",
    "import spacy\n",
    "import pandas as pd\n",
    "import seaborn as sb\n",
    "# hi"
   ]
  },
  {
   "cell_type": "code",
   "execution_count": null,
   "metadata": {},
   "outputs": [],
   "source": [
    "!python -m spacy download el_core_news_md\n",
    "nltk.download('stopwords')"
   ]
  },
  {
   "cell_type": "code",
   "execution_count": 2,
   "metadata": {},
   "outputs": [],
   "source": [
    "nlp = spacy.load('el_core_news_md')"
   ]
  },
  {
   "cell_type": "code",
   "execution_count": 3,
   "metadata": {},
   "outputs": [
    {
     "data": {
      "text/html": [
       "<div>\n",
       "<style scoped>\n",
       "    .dataframe tbody tr th:only-of-type {\n",
       "        vertical-align: middle;\n",
       "    }\n",
       "\n",
       "    .dataframe tbody tr th {\n",
       "        vertical-align: top;\n",
       "    }\n",
       "\n",
       "    .dataframe thead th {\n",
       "        text-align: right;\n",
       "    }\n",
       "</style>\n",
       "<table border=\"1\" class=\"dataframe\">\n",
       "  <thead>\n",
       "    <tr style=\"text-align: right;\">\n",
       "      <th></th>\n",
       "      <th>Statement</th>\n",
       "      <th>Label</th>\n",
       "    </tr>\n",
       "  </thead>\n",
       "  <tbody>\n",
       "    <tr>\n",
       "      <th>0</th>\n",
       "      <td>\"Λέει ότι η πολιτική ομάδα Annies List υποστηρ...</td>\n",
       "      <td>False</td>\n",
       "    </tr>\n",
       "    <tr>\n",
       "      <th>1</th>\n",
       "      <td>\"Πότε άρχισε η παρακμή του άνθρακα; Ξεκίνησε ό...</td>\n",
       "      <td>True</td>\n",
       "    </tr>\n",
       "    <tr>\n",
       "      <th>2</th>\n",
       "      <td>\"Η Χίλαρι Κλίντον συμφωνεί με τον Τζον Μακέιν ...</td>\n",
       "      <td>True</td>\n",
       "    </tr>\n",
       "    <tr>\n",
       "      <th>3</th>\n",
       "      <td>\"Η νομοθεσία για τη μεταρρύθμιση της υγειονομι...</td>\n",
       "      <td>False</td>\n",
       "    </tr>\n",
       "    <tr>\n",
       "      <th>4</th>\n",
       "      <td>\"Η οικονομική ανάκαμψη ξεκίνησε στο τέλος της ...</td>\n",
       "      <td>True</td>\n",
       "    </tr>\n",
       "    <tr>\n",
       "      <th>5</th>\n",
       "      <td>\"Οι Chicago Bears είχαν περισσότερους αρχηγούς...</td>\n",
       "      <td>True</td>\n",
       "    </tr>\n",
       "    <tr>\n",
       "      <th>6</th>\n",
       "      <td>\"Ο Jim Dunnam δεν έχει ζήσει στην περιοχή που ...</td>\n",
       "      <td>False</td>\n",
       "    </tr>\n",
       "    <tr>\n",
       "      <th>7</th>\n",
       "      <td>\"Είμαι ο μόνος άνθρωπος σε αυτή τη σκηνή που ε...</td>\n",
       "      <td>True</td>\n",
       "    </tr>\n",
       "    <tr>\n",
       "      <th>8</th>\n",
       "      <td>\"Ωστόσο, χρειάστηκαν 19,5 εκατομμύρια δολάρια ...</td>\n",
       "      <td>True</td>\n",
       "    </tr>\n",
       "    <tr>\n",
       "      <th>9</th>\n",
       "      <td>\"Λέει ότι οι πρωτοβάθμιοι αντίπαλοι του GOP Gl...</td>\n",
       "      <td>True</td>\n",
       "    </tr>\n",
       "  </tbody>\n",
       "</table>\n",
       "</div>"
      ],
      "text/plain": [
       "                                           Statement  Label\n",
       "0  \"Λέει ότι η πολιτική ομάδα Annies List υποστηρ...  False\n",
       "1  \"Πότε άρχισε η παρακμή του άνθρακα; Ξεκίνησε ό...   True\n",
       "2  \"Η Χίλαρι Κλίντον συμφωνεί με τον Τζον Μακέιν ...   True\n",
       "3  \"Η νομοθεσία για τη μεταρρύθμιση της υγειονομι...  False\n",
       "4  \"Η οικονομική ανάκαμψη ξεκίνησε στο τέλος της ...   True\n",
       "5  \"Οι Chicago Bears είχαν περισσότερους αρχηγούς...   True\n",
       "6  \"Ο Jim Dunnam δεν έχει ζήσει στην περιοχή που ...  False\n",
       "7  \"Είμαι ο μόνος άνθρωπος σε αυτή τη σκηνή που ε...   True\n",
       "8  \"Ωστόσο, χρειάστηκαν 19,5 εκατομμύρια δολάρια ...   True\n",
       "9  \"Λέει ότι οι πρωτοβάθμιοι αντίπαλοι του GOP Gl...   True"
      ]
     },
     "execution_count": 3,
     "metadata": {},
     "output_type": "execute_result"
    }
   ],
   "source": [
    "train_df = pd.read_csv('translated_with_api/translated_train_clean.csv')\n",
    "train_df.head(10)"
   ]
  },
  {
   "cell_type": "code",
   "execution_count": 4,
   "metadata": {},
   "outputs": [
    {
     "data": {
      "text/plain": [
       "<AxesSubplot:xlabel='Label', ylabel='count'>"
      ]
     },
     "execution_count": 4,
     "metadata": {},
     "output_type": "execute_result"
    },
    {
     "data": {
      "image/png": "[encoded data removed]",
      "text/plain": [
       "<Figure size 432x288 with 1 Axes>"
      ]
     },
     "metadata": {
      "needs_background": "light"
     },
     "output_type": "display_data"
    }
   ],
   "source": [
    "def create_distribution(dataFile):\n",
    "    return sb.countplot(x='Label', data=dataFile, palette='hls')\n",
    "\n",
    "# by calling below we can see that training, test and valid data seems to be failry evenly distributed between the classes\n",
    "create_distribution(train_df)"
   ]
  },
  {
   "cell_type": "code",
   "execution_count": 5,
   "metadata": {},
   "outputs": [
    {
     "name": "stdout",
     "output_type": "stream",
     "text": [
      "Checking data qualitites...\n",
      "<class 'pandas.core.frame.DataFrame'>\n",
      "RangeIndex: 10198 entries, 0 to 10197\n",
      "Data columns (total 2 columns):\n",
      " #   Column     Non-Null Count  Dtype \n",
      "---  ------     --------------  ----- \n",
      " 0   Statement  10198 non-null  object\n",
      " 1   Label      10198 non-null  bool  \n",
      "dtypes: bool(1), object(1)\n",
      "memory usage: 89.8+ KB\n",
      "check finished.\n"
     ]
    }
   ],
   "source": [
    "def data_qualityCheck():\n",
    "    print(\"Checking data qualitites...\")\n",
    "    train_df.isnull().sum()\n",
    "    train_df.info()  \n",
    "    print(\"check finished.\")\n",
    "data_qualityCheck()"
   ]
  },
  {
   "cell_type": "code",
   "execution_count": 6,
   "metadata": {},
   "outputs": [],
   "source": [
    "label_train = train_df.Label"
   ]
  },
  {
   "cell_type": "code",
   "execution_count": null,
   "metadata": {},
   "outputs": [],
   "source": [
    "train_df = train_df.drop('Label', axis=1)"
   ]
  },
  {
   "cell_type": "code",
   "execution_count": 9,
   "metadata": {},
   "outputs": [
    {
     "data": {
      "text/html": [
       "<div>\n",
       "<style scoped>\n",
       "    .dataframe tbody tr th:only-of-type {\n",
       "        vertical-align: middle;\n",
       "    }\n",
       "\n",
       "    .dataframe tbody tr th {\n",
       "        vertical-align: top;\n",
       "    }\n",
       "\n",
       "    .dataframe thead th {\n",
       "        text-align: right;\n",
       "    }\n",
       "</style>\n",
       "<table border=\"1\" class=\"dataframe\">\n",
       "  <thead>\n",
       "    <tr style=\"text-align: right;\">\n",
       "      <th></th>\n",
       "      <th>Statement</th>\n",
       "    </tr>\n",
       "  </thead>\n",
       "  <tbody>\n",
       "    <tr>\n",
       "      <th>0</th>\n",
       "      <td>\"Λέει ότι η πολιτική ομάδα Annies List υποστηρ...</td>\n",
       "    </tr>\n",
       "    <tr>\n",
       "      <th>1</th>\n",
       "      <td>\"Πότε άρχισε η παρακμή του άνθρακα; Ξεκίνησε ό...</td>\n",
       "    </tr>\n",
       "    <tr>\n",
       "      <th>2</th>\n",
       "      <td>\"Η Χίλαρι Κλίντον συμφωνεί με τον Τζον Μακέιν ...</td>\n",
       "    </tr>\n",
       "    <tr>\n",
       "      <th>3</th>\n",
       "      <td>\"Η νομοθεσία για τη μεταρρύθμιση της υγειονομι...</td>\n",
       "    </tr>\n",
       "    <tr>\n",
       "      <th>4</th>\n",
       "      <td>\"Η οικονομική ανάκαμψη ξεκίνησε στο τέλος της ...</td>\n",
       "    </tr>\n",
       "    <tr>\n",
       "      <th>5</th>\n",
       "      <td>\"Οι Chicago Bears είχαν περισσότερους αρχηγούς...</td>\n",
       "    </tr>\n",
       "    <tr>\n",
       "      <th>6</th>\n",
       "      <td>\"Ο Jim Dunnam δεν έχει ζήσει στην περιοχή που ...</td>\n",
       "    </tr>\n",
       "    <tr>\n",
       "      <th>7</th>\n",
       "      <td>\"Είμαι ο μόνος άνθρωπος σε αυτή τη σκηνή που ε...</td>\n",
       "    </tr>\n",
       "    <tr>\n",
       "      <th>8</th>\n",
       "      <td>\"Ωστόσο, χρειάστηκαν 19,5 εκατομμύρια δολάρια ...</td>\n",
       "    </tr>\n",
       "    <tr>\n",
       "      <th>9</th>\n",
       "      <td>\"Λέει ότι οι πρωτοβάθμιοι αντίπαλοι του GOP Gl...</td>\n",
       "    </tr>\n",
       "  </tbody>\n",
       "</table>\n",
       "</div>"
      ],
      "text/plain": [
       "                                           Statement\n",
       "0  \"Λέει ότι η πολιτική ομάδα Annies List υποστηρ...\n",
       "1  \"Πότε άρχισε η παρακμή του άνθρακα; Ξεκίνησε ό...\n",
       "2  \"Η Χίλαρι Κλίντον συμφωνεί με τον Τζον Μακέιν ...\n",
       "3  \"Η νομοθεσία για τη μεταρρύθμιση της υγειονομι...\n",
       "4  \"Η οικονομική ανάκαμψη ξεκίνησε στο τέλος της ...\n",
       "5  \"Οι Chicago Bears είχαν περισσότερους αρχηγούς...\n",
       "6  \"Ο Jim Dunnam δεν έχει ζήσει στην περιοχή που ...\n",
       "7  \"Είμαι ο μόνος άνθρωπος σε αυτή τη σκηνή που ε...\n",
       "8  \"Ωστόσο, χρειάστηκαν 19,5 εκατομμύρια δολάρια ...\n",
       "9  \"Λέει ότι οι πρωτοβάθμιοι αντίπαλοι του GOP Gl..."
      ]
     },
     "execution_count": 9,
     "metadata": {},
     "output_type": "execute_result"
    }
   ],
   "source": [
    "train_df.head(10)"
   ]
  },
  {
   "cell_type": "code",
   "execution_count": 10,
   "metadata": {},
   "outputs": [
    {
     "data": {
      "text/plain": [
       "(10198, 1)"
      ]
     },
     "execution_count": 10,
     "metadata": {},
     "output_type": "execute_result"
    }
   ],
   "source": [
    "train_df.shape"
   ]
  },
  {
   "cell_type": "code",
   "execution_count": 12,
   "metadata": {},
   "outputs": [],
   "source": [
    "random = train_df['Statement'][288]"
   ]
  },
  {
   "cell_type": "code",
   "execution_count": null,
   "metadata": {},
   "outputs": [],
   "source": [
    "doc = nlp(random)\n",
    "\n",
    "for word in doc:\n",
    "    print(word.text, word.pos_, word.dep_)\n"
   ]
  },
  {
   "cell_type": "code",
   "execution_count": 16,
   "metadata": {},
   "outputs": [],
   "source": [
    "tokenizer = nlp.tokenizer"
   ]
  },
  {
   "cell_type": "code",
   "execution_count": 17,
   "metadata": {},
   "outputs": [
    {
     "data": {
      "text/plain": [
       "\"Ενώ αγωνιζόταν για την αυστηροποίηση των ποινών για διακρίσεις λόγω φύλου στον χώρο εργασίας, ο γερουσιαστής Glenn Grothman δήλωσε ότι δεν πιστεύει ότι οι γυναίκες ανήκουν στον χώρο εργασίας, αλλά ότι ανήκουν στο σπίτι, στο μαγείρεμα, στην καθαριότητα και στη γέννα.\""
      ]
     },
     "execution_count": 17,
     "metadata": {},
     "output_type": "execute_result"
    }
   ],
   "source": [
    "tokenizer(random)"
   ]
  },
  {
   "cell_type": "code",
   "execution_count": 21,
   "metadata": {},
   "outputs": [
    {
     "data": {
      "text/plain": [
       "Ο ΨΑΡΑΣ ΠΗΓΕ ΓΙΑ ΨΑΡΕΜΑ ΣΤΗΝ ΘΑΛΑΣΣΑ"
      ]
     },
     "execution_count": 21,
     "metadata": {},
     "output_type": "execute_result"
    }
   ],
   "source": [
    "tokenizer('Ο ΨΑΡΑΣ ΠΗΓΕ ΓΙΑ ΨΑΡΕΜΑ ΣΤΗΝ ΘΑΛΑΣΣΑ')"
   ]
  }
 ],
 "metadata": {
  "kernelspec": {
   "display_name": "thesis",
   "language": "python",
   "name": "python3"
  },
  "language_info": {
   "codemirror_mode": {
    "name": "ipython",
    "version": 3
   },
   "file_extension": ".py",
   "mimetype": "text/x-python",
   "name": "python",
   "nbconvert_exporter": "python",
   "pygments_lexer": "ipython3",
   "version": "3.9.6 (default, Sep 26 2022, 11:37:49) \n[Clang 14.0.0 (clang-1400.0.29.202)]"
  },
  "orig_nbformat": 4,
  "vscode": {
   "interpreter": {
    "hash": "21857ba9d5cf67543c417871f850bdd2d6989bad9cd049173f251caa3f6acfe3"
   }
  }
 },
 "nbformat": 4,
 "nbformat_minor": 2
}
