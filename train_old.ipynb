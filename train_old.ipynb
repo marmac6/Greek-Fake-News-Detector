{
 "cells": [
  {
   "cell_type": "code",
   "execution_count": 27,
   "metadata": {},
   "outputs": [],
   "source": [
    "import re\n",
    "import nltk\n",
    "import itertools\n",
    "import numpy as np\n",
    "import pandas as pd\n",
    "import seaborn as sb\n",
    "from matplotlib import pyplot as plt\n",
    "\n",
    "from sklearn import metrics\n",
    "from sklearn.model_selection import train_test_split\n",
    "from sklearn.feature_extraction.text import TfidfVectorizer\n",
    "from sklearn.linear_model import PassiveAggressiveClassifier\n",
    "\n",
    "\n",
    "from nltk.stem import WordNetLemmatizer\n",
    "from nltk.corpus import stopwords"
   ]
  },
  {
   "cell_type": "code",
   "execution_count": null,
   "metadata": {},
   "outputs": [],
   "source": [
    "nltk.download('stopwords')\n",
    "nltk.download('omw-1.4')\n",
    "nltk.download('wordnet')"
   ]
  },
  {
   "cell_type": "code",
   "execution_count": 4,
   "metadata": {},
   "outputs": [
    {
     "data": {
      "text/html": [
       "<div>\n",
       "<style scoped>\n",
       "    .dataframe tbody tr th:only-of-type {\n",
       "        vertical-align: middle;\n",
       "    }\n",
       "\n",
       "    .dataframe tbody tr th {\n",
       "        vertical-align: top;\n",
       "    }\n",
       "\n",
       "    .dataframe thead th {\n",
       "        text-align: right;\n",
       "    }\n",
       "</style>\n",
       "<table border=\"1\" class=\"dataframe\">\n",
       "  <thead>\n",
       "    <tr style=\"text-align: right;\">\n",
       "      <th></th>\n",
       "      <th>Statement</th>\n",
       "      <th>Label</th>\n",
       "    </tr>\n",
       "  </thead>\n",
       "  <tbody>\n",
       "    <tr>\n",
       "      <th>0</th>\n",
       "      <td>\"Λέει ότι η πολιτική ομάδα Annies List υποστηρ...</td>\n",
       "      <td>False</td>\n",
       "    </tr>\n",
       "    <tr>\n",
       "      <th>1</th>\n",
       "      <td>\"Πότε άρχισε η παρακμή του άνθρακα; Ξεκίνησε ό...</td>\n",
       "      <td>True</td>\n",
       "    </tr>\n",
       "    <tr>\n",
       "      <th>2</th>\n",
       "      <td>\"Η Χίλαρι Κλίντον συμφωνεί με τον Τζον Μακέιν ...</td>\n",
       "      <td>True</td>\n",
       "    </tr>\n",
       "    <tr>\n",
       "      <th>3</th>\n",
       "      <td>\"Η νομοθεσία για τη μεταρρύθμιση της υγειονομι...</td>\n",
       "      <td>False</td>\n",
       "    </tr>\n",
       "    <tr>\n",
       "      <th>4</th>\n",
       "      <td>\"Η οικονομική ανάκαμψη ξεκίνησε στο τέλος της ...</td>\n",
       "      <td>True</td>\n",
       "    </tr>\n",
       "    <tr>\n",
       "      <th>5</th>\n",
       "      <td>\"Οι Chicago Bears είχαν περισσότερους αρχηγούς...</td>\n",
       "      <td>True</td>\n",
       "    </tr>\n",
       "    <tr>\n",
       "      <th>6</th>\n",
       "      <td>\"Ο Jim Dunnam δεν έχει ζήσει στην περιοχή που ...</td>\n",
       "      <td>False</td>\n",
       "    </tr>\n",
       "    <tr>\n",
       "      <th>7</th>\n",
       "      <td>\"Είμαι ο μόνος άνθρωπος σε αυτή τη σκηνή που ε...</td>\n",
       "      <td>True</td>\n",
       "    </tr>\n",
       "    <tr>\n",
       "      <th>8</th>\n",
       "      <td>\"Ωστόσο, χρειάστηκαν 19,5 εκατομμύρια δολάρια ...</td>\n",
       "      <td>True</td>\n",
       "    </tr>\n",
       "    <tr>\n",
       "      <th>9</th>\n",
       "      <td>\"Λέει ότι οι πρωτοβάθμιοι αντίπαλοι του GOP Gl...</td>\n",
       "      <td>True</td>\n",
       "    </tr>\n",
       "  </tbody>\n",
       "</table>\n",
       "</div>"
      ],
      "text/plain": [
       "                                           Statement  Label\n",
       "0  \"Λέει ότι η πολιτική ομάδα Annies List υποστηρ...  False\n",
       "1  \"Πότε άρχισε η παρακμή του άνθρακα; Ξεκίνησε ό...   True\n",
       "2  \"Η Χίλαρι Κλίντον συμφωνεί με τον Τζον Μακέιν ...   True\n",
       "3  \"Η νομοθεσία για τη μεταρρύθμιση της υγειονομι...  False\n",
       "4  \"Η οικονομική ανάκαμψη ξεκίνησε στο τέλος της ...   True\n",
       "5  \"Οι Chicago Bears είχαν περισσότερους αρχηγούς...   True\n",
       "6  \"Ο Jim Dunnam δεν έχει ζήσει στην περιοχή που ...  False\n",
       "7  \"Είμαι ο μόνος άνθρωπος σε αυτή τη σκηνή που ε...   True\n",
       "8  \"Ωστόσο, χρειάστηκαν 19,5 εκατομμύρια δολάρια ...   True\n",
       "9  \"Λέει ότι οι πρωτοβάθμιοι αντίπαλοι του GOP Gl...   True"
      ]
     },
     "execution_count": 4,
     "metadata": {},
     "output_type": "execute_result"
    }
   ],
   "source": [
    "train_df = pd.read_csv('translated_with_api/translated_train_clean.csv')\n",
    "train_df.head(10)"
   ]
  },
  {
   "cell_type": "code",
   "execution_count": 5,
   "metadata": {},
   "outputs": [
    {
     "data": {
      "text/plain": [
       "<AxesSubplot:xlabel='Label', ylabel='count'>"
      ]
     },
     "execution_count": 5,
     "metadata": {},
     "output_type": "execute_result"
    },
    {
     "data": {
      "image/png": "[encoded data removed]",
      "text/plain": [
       "<Figure size 432x288 with 1 Axes>"
      ]
     },
     "metadata": {
      "needs_background": "light"
     },
     "output_type": "display_data"
    }
   ],
   "source": [
    "def create_distribution(dataFile):\n",
    "    return sb.countplot(x='Label', data=dataFile, palette='hls')\n",
    "\n",
    "# by calling below we can see that training, test and valid data seems to be failry evenly distributed between the classes\n",
    "create_distribution(train_df)"
   ]
  },
  {
   "cell_type": "code",
   "execution_count": 6,
   "metadata": {},
   "outputs": [
    {
     "name": "stdout",
     "output_type": "stream",
     "text": [
      "Checking data qualitites...\n",
      "<class 'pandas.core.frame.DataFrame'>\n",
      "RangeIndex: 10198 entries, 0 to 10197\n",
      "Data columns (total 2 columns):\n",
      " #   Column     Non-Null Count  Dtype \n",
      "---  ------     --------------  ----- \n",
      " 0   Statement  10198 non-null  object\n",
      " 1   Label      10198 non-null  bool  \n",
      "dtypes: bool(1), object(1)\n",
      "memory usage: 89.8+ KB\n",
      "check finished.\n"
     ]
    }
   ],
   "source": [
    "def data_qualityCheck():\n",
    "    print(\"Checking data qualitites...\")\n",
    "    train_df.isnull().sum()\n",
    "    train_df.info()  \n",
    "    print(\"check finished.\")\n",
    "data_qualityCheck()"
   ]
  },
  {
   "cell_type": "code",
   "execution_count": 7,
   "metadata": {},
   "outputs": [],
   "source": [
    "label_train = train_df.Label"
   ]
  },
  {
   "cell_type": "code",
   "execution_count": 8,
   "metadata": {},
   "outputs": [],
   "source": [
    "train_df = train_df.drop('Label', axis=1)"
   ]
  },
  {
   "cell_type": "code",
   "execution_count": 9,
   "metadata": {},
   "outputs": [
    {
     "data": {
      "text/html": [
       "<div>\n",
       "<style scoped>\n",
       "    .dataframe tbody tr th:only-of-type {\n",
       "        vertical-align: middle;\n",
       "    }\n",
       "\n",
       "    .dataframe tbody tr th {\n",
       "        vertical-align: top;\n",
       "    }\n",
       "\n",
       "    .dataframe thead th {\n",
       "        text-align: right;\n",
       "    }\n",
       "</style>\n",
       "<table border=\"1\" class=\"dataframe\">\n",
       "  <thead>\n",
       "    <tr style=\"text-align: right;\">\n",
       "      <th></th>\n",
       "      <th>Statement</th>\n",
       "    </tr>\n",
       "  </thead>\n",
       "  <tbody>\n",
       "    <tr>\n",
       "      <th>0</th>\n",
       "      <td>\"Λέει ότι η πολιτική ομάδα Annies List υποστηρ...</td>\n",
       "    </tr>\n",
       "    <tr>\n",
       "      <th>1</th>\n",
       "      <td>\"Πότε άρχισε η παρακμή του άνθρακα; Ξεκίνησε ό...</td>\n",
       "    </tr>\n",
       "    <tr>\n",
       "      <th>2</th>\n",
       "      <td>\"Η Χίλαρι Κλίντον συμφωνεί με τον Τζον Μακέιν ...</td>\n",
       "    </tr>\n",
       "    <tr>\n",
       "      <th>3</th>\n",
       "      <td>\"Η νομοθεσία για τη μεταρρύθμιση της υγειονομι...</td>\n",
       "    </tr>\n",
       "    <tr>\n",
       "      <th>4</th>\n",
       "      <td>\"Η οικονομική ανάκαμψη ξεκίνησε στο τέλος της ...</td>\n",
       "    </tr>\n",
       "    <tr>\n",
       "      <th>5</th>\n",
       "      <td>\"Οι Chicago Bears είχαν περισσότερους αρχηγούς...</td>\n",
       "    </tr>\n",
       "    <tr>\n",
       "      <th>6</th>\n",
       "      <td>\"Ο Jim Dunnam δεν έχει ζήσει στην περιοχή που ...</td>\n",
       "    </tr>\n",
       "    <tr>\n",
       "      <th>7</th>\n",
       "      <td>\"Είμαι ο μόνος άνθρωπος σε αυτή τη σκηνή που ε...</td>\n",
       "    </tr>\n",
       "    <tr>\n",
       "      <th>8</th>\n",
       "      <td>\"Ωστόσο, χρειάστηκαν 19,5 εκατομμύρια δολάρια ...</td>\n",
       "    </tr>\n",
       "    <tr>\n",
       "      <th>9</th>\n",
       "      <td>\"Λέει ότι οι πρωτοβάθμιοι αντίπαλοι του GOP Gl...</td>\n",
       "    </tr>\n",
       "  </tbody>\n",
       "</table>\n",
       "</div>"
      ],
      "text/plain": [
       "                                           Statement\n",
       "0  \"Λέει ότι η πολιτική ομάδα Annies List υποστηρ...\n",
       "1  \"Πότε άρχισε η παρακμή του άνθρακα; Ξεκίνησε ό...\n",
       "2  \"Η Χίλαρι Κλίντον συμφωνεί με τον Τζον Μακέιν ...\n",
       "3  \"Η νομοθεσία για τη μεταρρύθμιση της υγειονομι...\n",
       "4  \"Η οικονομική ανάκαμψη ξεκίνησε στο τέλος της ...\n",
       "5  \"Οι Chicago Bears είχαν περισσότερους αρχηγούς...\n",
       "6  \"Ο Jim Dunnam δεν έχει ζήσει στην περιοχή που ...\n",
       "7  \"Είμαι ο μόνος άνθρωπος σε αυτή τη σκηνή που ε...\n",
       "8  \"Ωστόσο, χρειάστηκαν 19,5 εκατομμύρια δολάρια ...\n",
       "9  \"Λέει ότι οι πρωτοβάθμιοι αντίπαλοι του GOP Gl..."
      ]
     },
     "execution_count": 9,
     "metadata": {},
     "output_type": "execute_result"
    }
   ],
   "source": [
    "train_df.head(10)"
   ]
  },
  {
   "cell_type": "code",
   "execution_count": 10,
   "metadata": {},
   "outputs": [
    {
     "data": {
      "text/plain": [
       "(10198, 1)"
      ]
     },
     "execution_count": 10,
     "metadata": {},
     "output_type": "execute_result"
    }
   ],
   "source": [
    "train_df.shape"
   ]
  },
  {
   "cell_type": "code",
   "execution_count": 11,
   "metadata": {},
   "outputs": [
    {
     "data": {
      "text/plain": [
       "'\"Ενώ αγωνιζόταν για την αυστηροποίηση των ποινών για διακρίσεις λόγω φύλου στον χώρο εργασίας, ο γερουσιαστής Glenn Grothman δήλωσε ότι δεν πιστεύει ότι οι γυναίκες ανήκουν στον χώρο εργασίας, αλλά ότι ανήκουν στο σπίτι, στο μαγείρεμα, στην καθαριότητα και στη γέννα.\"'"
      ]
     },
     "execution_count": 11,
     "metadata": {},
     "output_type": "execute_result"
    }
   ],
   "source": [
    "train_df['Statement'][288]"
   ]
  },
  {
   "cell_type": "code",
   "execution_count": 12,
   "metadata": {},
   "outputs": [],
   "source": [
    "lemmatizer = WordNetLemmatizer()\n",
    "stpwrds = list(stopwords.words('greek'))"
   ]
  },
  {
   "cell_type": "code",
   "execution_count": 13,
   "metadata": {},
   "outputs": [],
   "source": [
    "for x in range(len(train_df)):\n",
    "    corpus = []\n",
    "    review = train_df['Statement'][x]\n",
    "    review = re.sub(r'[^α-ωΑ-ΩίϊΐόάέύϋΰήώΊΪΌΆΈΎΫΉΏ\\s]', '', review)\n",
    "    review = nltk.word_tokenize(review)\n",
    "    for y in review:\n",
    "        if y not in stpwrds:  # stopwords are lowercase\n",
    "            corpus.append(lemmatizer.lemmatize(y.upper()))  # lemmatizer's input must be uppercase\n",
    "    review = ' '.join(corpus)\n",
    "    train_df['Statement'][x] = review\n"
   ]
  },
  {
   "cell_type": "code",
   "execution_count": 14,
   "metadata": {},
   "outputs": [
    {
     "data": {
      "text/html": [
       "<div>\n",
       "<style scoped>\n",
       "    .dataframe tbody tr th:only-of-type {\n",
       "        vertical-align: middle;\n",
       "    }\n",
       "\n",
       "    .dataframe tbody tr th {\n",
       "        vertical-align: top;\n",
       "    }\n",
       "\n",
       "    .dataframe thead th {\n",
       "        text-align: right;\n",
       "    }\n",
       "</style>\n",
       "<table border=\"1\" class=\"dataframe\">\n",
       "  <thead>\n",
       "    <tr style=\"text-align: right;\">\n",
       "      <th></th>\n",
       "      <th>Statement</th>\n",
       "    </tr>\n",
       "  </thead>\n",
       "  <tbody>\n",
       "    <tr>\n",
       "      <th>0</th>\n",
       "      <td>ΛΈΕΙ ΌΤΙ ΠΟΛΙΤΙΚΉ ΟΜΆΔΑ ΥΠΟΣΤΗΡΊΖΕΙ ΑΜΒΛΏΣΕΙΣ ...</td>\n",
       "    </tr>\n",
       "    <tr>\n",
       "      <th>1</th>\n",
       "      <td>ΠΌΤΕ ΆΡΧΙΣΕ ΠΑΡΑΚΜΉ ΆΝΘΡΑΚΑ ΞΕΚΊΝΗΣΕ ΌΤΑΝ ΦΥΣΙ...</td>\n",
       "    </tr>\n",
       "    <tr>\n",
       "      <th>2</th>\n",
       "      <td>Η ΧΊΛΑΡΙ ΚΛΊΝΤΟΝ ΣΥΜΦΩΝΕΊ ΤΖΟΝ ΜΑΚΈΙΝ ΨΗΦΊΖΟΝΤ...</td>\n",
       "    </tr>\n",
       "    <tr>\n",
       "      <th>3</th>\n",
       "      <td>Η ΝΟΜΟΘΕΣΊΑ ΤΗ ΜΕΤΑΡΡΎΘΜΙΣΗ ΤΗΣ ΥΓΕΙΟΝΟΜΙΚΉΣ Π...</td>\n",
       "    </tr>\n",
       "    <tr>\n",
       "      <th>4</th>\n",
       "      <td>Η ΟΙΚΟΝΟΜΙΚΉ ΑΝΆΚΑΜΨΗ ΞΕΚΊΝΗΣΕ ΤΈΛΟΣ ΤΗΣ ΘΗΤΕΊ...</td>\n",
       "    </tr>\n",
       "    <tr>\n",
       "      <th>5</th>\n",
       "      <td>ΟΙ ΕΊΧΑΝ ΠΕΡΙΣΣΌΤΕΡΟΥΣ ΑΡΧΗΓΟΎΣ ΤΕΛΕΥΤΑΊΑ ΧΡΌΝ...</td>\n",
       "    </tr>\n",
       "    <tr>\n",
       "      <th>6</th>\n",
       "      <td>Ο ΈΧΕΙ ΖΉΣΕΙ ΠΕΡΙΟΧΉ ΕΚΠΡΟΣΩΠΕΊ ΕΔΏ ΧΡΌΝΙΑ</td>\n",
       "    </tr>\n",
       "    <tr>\n",
       "      <th>7</th>\n",
       "      <td>ΕΊΜΑΙ ΜΌΝΟΣ ΆΝΘΡΩΠΟΣ ΑΥΤΉ ΤΗ ΣΚΗΝΉ ΕΡΓΆΣΤΗΚΕ Ε...</td>\n",
       "    </tr>\n",
       "    <tr>\n",
       "      <th>8</th>\n",
       "      <td>ΩΣΤΌΣΟ ΧΡΕΙΆΣΤΗΚΑΝ ΕΚΑΤΟΜΜΎΡΙΑ ΔΟΛΆΡΙΑ ΚΟΝΔΎΛΙ...</td>\n",
       "    </tr>\n",
       "    <tr>\n",
       "      <th>9</th>\n",
       "      <td>ΛΈΕΙ ΌΤΙ ΠΡΩΤΟΒΆΘΜΙΟΙ ΑΝΤΊΠΑΛΟΙ ΈΔΩΣΑΝ ΜΙΑ ΣΥΜ...</td>\n",
       "    </tr>\n",
       "    <tr>\n",
       "      <th>10</th>\n",
       "      <td>ΓΙΑ ΠΡΏΤΗ ΦΟΡΆ ΙΣΤΟΡΊΑ ΜΕΡΊΔΙΟ ΕΘΝΙΚΟΎ ΠΕΡΙΘΩΡ...</td>\n",
       "    </tr>\n",
       "    <tr>\n",
       "      <th>11</th>\n",
       "      <td>ΑΠΌ ΣΧΕΔΌΝ ΕΚΑΤΟΜΜΎΡΙΑ ΑΜΕΡΙΚΑΝΟΊ ΈΧΟΥΝ ΞΕΦΎΓΕ...</td>\n",
       "    </tr>\n",
       "    <tr>\n",
       "      <th>12</th>\n",
       "      <td>ΌΤΑΝ ΜΙΤ ΡΌΜΝΕΪ ΉΤΑΝ ΚΥΒΕΡΝΉΤΗΣ ΤΗΣ ΜΑΣΑΧΟΥΣΈΤ...</td>\n",
       "    </tr>\n",
       "    <tr>\n",
       "      <th>13</th>\n",
       "      <td>Η ΟΙΚΟΝΟΜΊΑ ΈΧΑΣΕ ΔΙΣΕΚΑΤΟΜΜΎΡΙΑ ΔΟΛΆΡΙΑ ΛΌΓΩ ...</td>\n",
       "    </tr>\n",
       "    <tr>\n",
       "      <th>14</th>\n",
       "      <td>ΤΟ ΜΕΓΑΛΎΤΕΡΟ ΜΈΡΟΣ ΠΡΟΣΙΤΟΎ ΝΌΜΟΥ ΠΕΡΊΘΑΛΨΗ Έ...</td>\n",
       "    </tr>\n",
       "  </tbody>\n",
       "</table>\n",
       "</div>"
      ],
      "text/plain": [
       "                                            Statement\n",
       "0   ΛΈΕΙ ΌΤΙ ΠΟΛΙΤΙΚΉ ΟΜΆΔΑ ΥΠΟΣΤΗΡΊΖΕΙ ΑΜΒΛΏΣΕΙΣ ...\n",
       "1   ΠΌΤΕ ΆΡΧΙΣΕ ΠΑΡΑΚΜΉ ΆΝΘΡΑΚΑ ΞΕΚΊΝΗΣΕ ΌΤΑΝ ΦΥΣΙ...\n",
       "2   Η ΧΊΛΑΡΙ ΚΛΊΝΤΟΝ ΣΥΜΦΩΝΕΊ ΤΖΟΝ ΜΑΚΈΙΝ ΨΗΦΊΖΟΝΤ...\n",
       "3   Η ΝΟΜΟΘΕΣΊΑ ΤΗ ΜΕΤΑΡΡΎΘΜΙΣΗ ΤΗΣ ΥΓΕΙΟΝΟΜΙΚΉΣ Π...\n",
       "4   Η ΟΙΚΟΝΟΜΙΚΉ ΑΝΆΚΑΜΨΗ ΞΕΚΊΝΗΣΕ ΤΈΛΟΣ ΤΗΣ ΘΗΤΕΊ...\n",
       "5   ΟΙ ΕΊΧΑΝ ΠΕΡΙΣΣΌΤΕΡΟΥΣ ΑΡΧΗΓΟΎΣ ΤΕΛΕΥΤΑΊΑ ΧΡΌΝ...\n",
       "6          Ο ΈΧΕΙ ΖΉΣΕΙ ΠΕΡΙΟΧΉ ΕΚΠΡΟΣΩΠΕΊ ΕΔΏ ΧΡΌΝΙΑ\n",
       "7   ΕΊΜΑΙ ΜΌΝΟΣ ΆΝΘΡΩΠΟΣ ΑΥΤΉ ΤΗ ΣΚΗΝΉ ΕΡΓΆΣΤΗΚΕ Ε...\n",
       "8   ΩΣΤΌΣΟ ΧΡΕΙΆΣΤΗΚΑΝ ΕΚΑΤΟΜΜΎΡΙΑ ΔΟΛΆΡΙΑ ΚΟΝΔΎΛΙ...\n",
       "9   ΛΈΕΙ ΌΤΙ ΠΡΩΤΟΒΆΘΜΙΟΙ ΑΝΤΊΠΑΛΟΙ ΈΔΩΣΑΝ ΜΙΑ ΣΥΜ...\n",
       "10  ΓΙΑ ΠΡΏΤΗ ΦΟΡΆ ΙΣΤΟΡΊΑ ΜΕΡΊΔΙΟ ΕΘΝΙΚΟΎ ΠΕΡΙΘΩΡ...\n",
       "11  ΑΠΌ ΣΧΕΔΌΝ ΕΚΑΤΟΜΜΎΡΙΑ ΑΜΕΡΙΚΑΝΟΊ ΈΧΟΥΝ ΞΕΦΎΓΕ...\n",
       "12  ΌΤΑΝ ΜΙΤ ΡΌΜΝΕΪ ΉΤΑΝ ΚΥΒΕΡΝΉΤΗΣ ΤΗΣ ΜΑΣΑΧΟΥΣΈΤ...\n",
       "13  Η ΟΙΚΟΝΟΜΊΑ ΈΧΑΣΕ ΔΙΣΕΚΑΤΟΜΜΎΡΙΑ ΔΟΛΆΡΙΑ ΛΌΓΩ ...\n",
       "14  ΤΟ ΜΕΓΑΛΎΤΕΡΟ ΜΈΡΟΣ ΠΡΟΣΙΤΟΎ ΝΌΜΟΥ ΠΕΡΊΘΑΛΨΗ Έ..."
      ]
     },
     "execution_count": 14,
     "metadata": {},
     "output_type": "execute_result"
    }
   ],
   "source": [
    "train_df.head(15)"
   ]
  },
  {
   "cell_type": "code",
   "execution_count": 16,
   "metadata": {},
   "outputs": [],
   "source": [
    "X_train, X_test, Y_train, Y_test = train_test_split(train_df['Statement'], label_train, test_size=0.3, random_state=1)"
   ]
  },
  {
   "cell_type": "code",
   "execution_count": 18,
   "metadata": {},
   "outputs": [
    {
     "data": {
      "text/plain": [
       "(7138,)"
      ]
     },
     "execution_count": 18,
     "metadata": {},
     "output_type": "execute_result"
    }
   ],
   "source": [
    "X_train\n",
    "X_train.shape"
   ]
  },
  {
   "cell_type": "code",
   "execution_count": 19,
   "metadata": {},
   "outputs": [
    {
     "data": {
      "text/plain": [
       "1598      True\n",
       "10030     True\n",
       "7931     False\n",
       "9215      True\n",
       "6859     False\n",
       "         ...  \n",
       "2895      True\n",
       "7813     False\n",
       "905       True\n",
       "5192     False\n",
       "235      False\n",
       "Name: Label, Length: 7138, dtype: bool"
      ]
     },
     "execution_count": 19,
     "metadata": {},
     "output_type": "execute_result"
    }
   ],
   "source": [
    "Y_train"
   ]
  },
  {
   "cell_type": "code",
   "execution_count": 20,
   "metadata": {},
   "outputs": [],
   "source": [
    "tfidf_v = TfidfVectorizer()\n",
    "tfidf_X_train = tfidf_v.fit_transform(X_train)\n",
    "tfidf_X_test = tfidf_v.transform(X_test)"
   ]
  },
  {
   "cell_type": "code",
   "execution_count": 21,
   "metadata": {},
   "outputs": [
    {
     "data": {
      "text/plain": [
       "(7138, 14056)"
      ]
     },
     "execution_count": 21,
     "metadata": {},
     "output_type": "execute_result"
    }
   ],
   "source": [
    "tfidf_X_train.shape"
   ]
  },
  {
   "cell_type": "code",
   "execution_count": 23,
   "metadata": {},
   "outputs": [
    {
     "data": {
      "text/html": [
       "<style>#sk-container-id-1 {color: black;background-color: white;}#sk-container-id-1 pre{padding: 0;}#sk-container-id-1 div.sk-toggleable {background-color: white;}#sk-container-id-1 label.sk-toggleable__label {cursor: pointer;display: block;width: 100%;margin-bottom: 0;padding: 0.3em;box-sizing: border-box;text-align: center;}#sk-container-id-1 label.sk-toggleable__label-arrow:before {content: \"▸\";float: left;margin-right: 0.25em;color: #696969;}#sk-container-id-1 label.sk-toggleable__label-arrow:hover:before {color: black;}#sk-container-id-1 div.sk-estimator:hover label.sk-toggleable__label-arrow:before {color: black;}#sk-container-id-1 div.sk-toggleable__content {max-height: 0;max-width: 0;overflow: hidden;text-align: left;background-color: #f0f8ff;}#sk-container-id-1 div.sk-toggleable__content pre {margin: 0.2em;color: black;border-radius: 0.25em;background-color: #f0f8ff;}#sk-container-id-1 input.sk-toggleable__control:checked~div.sk-toggleable__content {max-height: 200px;max-width: 100%;overflow: auto;}#sk-container-id-1 input.sk-toggleable__control:checked~label.sk-toggleable__label-arrow:before {content: \"▾\";}#sk-container-id-1 div.sk-estimator input.sk-toggleable__control:checked~label.sk-toggleable__label {background-color: #d4ebff;}#sk-container-id-1 div.sk-label input.sk-toggleable__control:checked~label.sk-toggleable__label {background-color: #d4ebff;}#sk-container-id-1 input.sk-hidden--visually {border: 0;clip: rect(1px 1px 1px 1px);clip: rect(1px, 1px, 1px, 1px);height: 1px;margin: -1px;overflow: hidden;padding: 0;position: absolute;width: 1px;}#sk-container-id-1 div.sk-estimator {font-family: monospace;background-color: #f0f8ff;border: 1px dotted black;border-radius: 0.25em;box-sizing: border-box;margin-bottom: 0.5em;}#sk-container-id-1 div.sk-estimator:hover {background-color: #d4ebff;}#sk-container-id-1 div.sk-parallel-item::after {content: \"\";width: 100%;border-bottom: 1px solid gray;flex-grow: 1;}#sk-container-id-1 div.sk-label:hover label.sk-toggleable__label {background-color: #d4ebff;}#sk-container-id-1 div.sk-serial::before {content: \"\";position: absolute;border-left: 1px solid gray;box-sizing: border-box;top: 0;bottom: 0;left: 50%;z-index: 0;}#sk-container-id-1 div.sk-serial {display: flex;flex-direction: column;align-items: center;background-color: white;padding-right: 0.2em;padding-left: 0.2em;position: relative;}#sk-container-id-1 div.sk-item {position: relative;z-index: 1;}#sk-container-id-1 div.sk-parallel {display: flex;align-items: stretch;justify-content: center;background-color: white;position: relative;}#sk-container-id-1 div.sk-item::before, #sk-container-id-1 div.sk-parallel-item::before {content: \"\";position: absolute;border-left: 1px solid gray;box-sizing: border-box;top: 0;bottom: 0;left: 50%;z-index: -1;}#sk-container-id-1 div.sk-parallel-item {display: flex;flex-direction: column;z-index: 1;position: relative;background-color: white;}#sk-container-id-1 div.sk-parallel-item:first-child::after {align-self: flex-end;width: 50%;}#sk-container-id-1 div.sk-parallel-item:last-child::after {align-self: flex-start;width: 50%;}#sk-container-id-1 div.sk-parallel-item:only-child::after {width: 0;}#sk-container-id-1 div.sk-dashed-wrapped {border: 1px dashed gray;margin: 0 0.4em 0.5em 0.4em;box-sizing: border-box;padding-bottom: 0.4em;background-color: white;}#sk-container-id-1 div.sk-label label {font-family: monospace;font-weight: bold;display: inline-block;line-height: 1.2em;}#sk-container-id-1 div.sk-label-container {text-align: center;}#sk-container-id-1 div.sk-container {/* jupyter's `normalize.less` sets `[hidden] { display: none; }` but bootstrap.min.css set `[hidden] { display: none !important; }` so we also need the `!important` here to be able to override the default hidden behavior on the sphinx rendered scikit-learn.org. See: https://github.com/scikit-learn/scikit-learn/issues/21755 */display: inline-block !important;position: relative;}#sk-container-id-1 div.sk-text-repr-fallback {display: none;}</style><div id=\"sk-container-id-1\" class=\"sk-top-container\"><div class=\"sk-text-repr-fallback\"><pre>PassiveAggressiveClassifier()</pre><b>In a Jupyter environment, please rerun this cell to show the HTML representation or trust the notebook. <br />On GitHub, the HTML representation is unable to render, please try loading this page with nbviewer.org.</b></div><div class=\"sk-container\" hidden><div class=\"sk-item\"><div class=\"sk-estimator sk-toggleable\"><input class=\"sk-toggleable__control sk-hidden--visually\" id=\"sk-estimator-id-1\" type=\"checkbox\" checked><label for=\"sk-estimator-id-1\" class=\"sk-toggleable__label sk-toggleable__label-arrow\">PassiveAggressiveClassifier</label><div class=\"sk-toggleable__content\"><pre>PassiveAggressiveClassifier()</pre></div></div></div></div></div>"
      ],
      "text/plain": [
       "PassiveAggressiveClassifier()"
      ]
     },
     "execution_count": 23,
     "metadata": {},
     "output_type": "execute_result"
    }
   ],
   "source": [
    "classifier = PassiveAggressiveClassifier()\n",
    "classifier.fit(tfidf_X_train, Y_train)"
   ]
  },
  {
   "cell_type": "code",
   "execution_count": 34,
   "metadata": {},
   "outputs": [],
   "source": [
    "def plot_confusion_matrix(cm, classes,\n",
    "                          normalize=False,\n",
    "                          title='Confusion matrix',\n",
    "                          cmap=plt.cm.YlOrRd):\n",
    "    \n",
    "    plt.imshow(cm, interpolation='nearest', cmap=cmap)\n",
    "    plt.title(title)\n",
    "    plt.colorbar()\n",
    "    tick_marks = np.arange(len(classes))\n",
    "    plt.xticks(tick_marks, classes, rotation=45)\n",
    "    plt.yticks(tick_marks, classes)\n",
    "\n",
    "    if normalize:\n",
    "        cm = cm.astype('float') / cm.sum(axis=1)[:, np.newaxis]\n",
    "        print(\"Normalized confusion matrix\")\n",
    "    else:\n",
    "        print('Confusion matrix, without normalization')\n",
    "\n",
    "    thresh = cm.max() / 2.\n",
    "    for i, j in itertools.product(range(cm.shape[0]), range(cm.shape[1])):\n",
    "        plt.text(j, i, cm[i, j],\n",
    "                 horizontalalignment=\"center\",\n",
    "                 color=\"white\" if cm[i, j] > thresh else \"black\")\n",
    "\n",
    "    plt.tight_layout()\n",
    "    plt.ylabel('True label')\n",
    "    plt.xlabel('Predicted label')"
   ]
  },
  {
   "cell_type": "code",
   "execution_count": 35,
   "metadata": {},
   "outputs": [
    {
     "name": "stdout",
     "output_type": "stream",
     "text": [
      "Accuracy: 55.49%\n",
      "Confusion matrix, without normalization\n"
     ]
    },
    {
     "data": {
      "image/png": "[encoded data removed]",
      "text/plain": [
       "<Figure size 432x288 with 2 Axes>"
      ]
     },
     "metadata": {
      "needs_background": "light"
     },
     "output_type": "display_data"
    }
   ],
   "source": [
    "Y_pred = classifier.predict(tfidf_X_test)\n",
    "score = metrics.accuracy_score(Y_test, Y_pred)\n",
    "print(f'Accuracy: {round(score*100,2)}%')\n",
    "cm = metrics.confusion_matrix(Y_test, Y_pred)\n",
    "plot_confusion_matrix(cm, classes=['FAKE Data', 'REAL Data'])"
   ]
  }
 ],
 "metadata": {
  "interpreter": {
   "hash": "9a2ad8a7791056f49f1ff560f756b5d15911ce8b33e52087013bfe8381374f9e"
  },
  "kernelspec": {
   "display_name": "Python 3.8.9 ('fake')",
   "language": "python",
   "name": "python3"
  },
  "language_info": {
   "codemirror_mode": {
    "name": "ipython",
    "version": 3
   },
   "file_extension": ".py",
   "mimetype": "text/x-python",
   "name": "python",
   "nbconvert_exporter": "python",
   "pygments_lexer": "ipython3",
   "version": "3.8.9"
  },
  "orig_nbformat": 4
 },
 "nbformat": 4,
 "nbformat_minor": 2
}
